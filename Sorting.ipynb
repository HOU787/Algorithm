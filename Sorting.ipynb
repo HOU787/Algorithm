{
 "cells": [
  {
   "cell_type": "markdown",
   "id": "d29345d9",
   "metadata": {},
   "source": [
    "# 위에서 아래로\n",
    "참고서와 비슷해서 풀이는 생략"
   ]
  },
  {
   "cell_type": "code",
   "execution_count": 3,
   "id": "d6f1cb70",
   "metadata": {
    "ExecuteTime": {
     "end_time": "2024-03-08T10:04:01.237004Z",
     "start_time": "2024-03-08T10:03:58.071078Z"
    }
   },
   "outputs": [
    {
     "name": "stdout",
     "output_type": "stream",
     "text": [
      "3\n",
      "9\n",
      "1\n",
      "4\n",
      "9 4 1\n"
     ]
    }
   ],
   "source": [
    "n = int(input())\n",
    "array = []\n",
    "for _ in range(n):\n",
    "    array.append(int(input()))\n",
    "    \n",
    "array.sort(reverse=True)\n",
    "print(*array)"
   ]
  },
  {
   "cell_type": "markdown",
   "id": "8fc361dc",
   "metadata": {},
   "source": [
    "# 성적이 낮은 순서로 학생 출력하기\n",
    "참고서와 비슷해서 풀이는 생략"
   ]
  },
  {
   "cell_type": "code",
   "execution_count": 10,
   "id": "4ce91d55",
   "metadata": {
    "ExecuteTime": {
     "end_time": "2024-03-08T10:20:01.396833Z",
     "start_time": "2024-03-08T10:19:54.181720Z"
    }
   },
   "outputs": [
    {
     "name": "stdout",
     "output_type": "stream",
     "text": [
      "2\n",
      "이씨 20\n",
      "김씨 80\n",
      "이씨 김씨 "
     ]
    }
   ],
   "source": [
    "n = int(input())\n",
    "array = []\n",
    "for _ in range(n):\n",
    "    a,b = input().split()\n",
    "    array.append((a,int(b)))\n",
    "\n",
    "def setting(data):\n",
    "    return data[1]\n",
    "\n",
    "# 1\n",
    "array.sort(key=setting)\n",
    "\n",
    "# 2\n",
    "# array = sorted(array, key= lambda x:x[1])\n",
    "\n",
    "for i in array:\n",
    "    print(i[0], end=' ')"
   ]
  },
  {
   "cell_type": "markdown",
   "id": "ec6e6921",
   "metadata": {},
   "source": [
    "# 두 배열의 원소 교체"
   ]
  },
  {
   "cell_type": "markdown",
   "id": "4b047ae2",
   "metadata": {},
   "source": [
    "## 내 풀이"
   ]
  },
  {
   "cell_type": "code",
   "execution_count": 11,
   "id": "268ba05d",
   "metadata": {
    "ExecuteTime": {
     "end_time": "2024-03-08T10:32:14.148173Z",
     "start_time": "2024-03-08T10:32:05.425256Z"
    }
   },
   "outputs": [
    {
     "name": "stdout",
     "output_type": "stream",
     "text": [
      "5 3\n",
      "1 2 5 4 3\n",
      "5 5 6 6 5\n",
      "26\n"
     ]
    }
   ],
   "source": [
    "n, k = map(int, input().split())\n",
    "\n",
    "a = list(map(int, input().split()))\n",
    "b = list(map(int, input().split()))\n",
    "\n",
    "for i in range(k):\n",
    "    if a[a.index(min(a))] < b[b.index(max(b))]:\n",
    "        a[a.index(min(a))],b[b.index(max(b))] = b[b.index(max(b))],a[a.index(min(a))]\n",
    "    else:\n",
    "        break\n",
    "\n",
    "print(sum(a))"
   ]
  },
  {
   "cell_type": "markdown",
   "id": "9be11be1",
   "metadata": {},
   "source": [
    "## 참고서 풀이"
   ]
  },
  {
   "cell_type": "code",
   "execution_count": null,
   "id": "24f5a781",
   "metadata": {},
   "outputs": [],
   "source": [
    "n, k = map(int, input().split())    # N과 K를 입력받기\n",
    "\n",
    "a = list(map(int, input().split())) # 배열 A의 모든 원소를 입력받기\n",
    "b = list(map(int, input().split())) # 배열 B의 모든 원소를 입력받기\n",
    "\n",
    "a.sort()\n",
    "b.sort(reverse=True)\n",
    "\n",
    "for i in range(k):\n",
    "    if a[i] < b[i]:\n",
    "        a[i], b[i] = b[i],a[i]\n",
    "    else:\n",
    "        break\n",
    "\n",
    "print(sum(a))"
   ]
  }
 ],
 "metadata": {
  "kernelspec": {
   "display_name": "Python 3 (ipykernel)",
   "language": "python",
   "name": "python3"
  },
  "language_info": {
   "codemirror_mode": {
    "name": "ipython",
    "version": 3
   },
   "file_extension": ".py",
   "mimetype": "text/x-python",
   "name": "python",
   "nbconvert_exporter": "python",
   "pygments_lexer": "ipython3",
   "version": "3.11.3"
  },
  "toc": {
   "base_numbering": 1,
   "nav_menu": {},
   "number_sections": true,
   "sideBar": true,
   "skip_h1_title": false,
   "title_cell": "Table of Contents",
   "title_sidebar": "Contents",
   "toc_cell": false,
   "toc_position": {},
   "toc_section_display": true,
   "toc_window_display": false
  }
 },
 "nbformat": 4,
 "nbformat_minor": 5
}
