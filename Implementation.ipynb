{
 "cells": [
  {
   "cell_type": "markdown",
   "id": "beab5a2f",
   "metadata": {},
   "source": [
    "# 상하좌우"
   ]
  },
  {
   "cell_type": "markdown",
   "id": "81e0221d",
   "metadata": {},
   "source": [
    "## 내 풀이"
   ]
  },
  {
   "cell_type": "code",
   "execution_count": 12,
   "id": "23bba538",
   "metadata": {
    "ExecuteTime": {
     "end_time": "2024-03-06T01:33:25.577189Z",
     "start_time": "2024-03-06T01:33:21.816612Z"
    }
   },
   "outputs": [
    {
     "name": "stdout",
     "output_type": "stream",
     "text": [
      "5\n",
      "R R R U D D\n",
      "4 2\n"
     ]
    }
   ],
   "source": [
    "n = int(input())\n",
    "journy = input().split()\n",
    "\n",
    "direction = 0\n",
    "\n",
    "# 배열생성\n",
    "dx = [1,0,-1,0] # R D L U\n",
    "dy = [0,1,0,-1]\n",
    "\n",
    "x, y = 1,1\n",
    "\n",
    "\n",
    "for i in journy:\n",
    "    # direction\n",
    "    if i == \"R\":\n",
    "        direction = 0\n",
    "    elif i == \"D\":\n",
    "        direction = 1\n",
    "    elif i == \"L\":\n",
    "        direction = 2\n",
    "    elif i == \"U\":\n",
    "        direction = 3\n",
    "    \n",
    "    nx = x + dx[direction]\n",
    "    ny = y + dy[direction]\n",
    "    if nx == 0 or y + ny == 0 or nx > 5 or ny > 5:\n",
    "        continue\n",
    "    \n",
    "    x = nx\n",
    "    y = ny\n",
    "    \n",
    "print(x, y)\n"
   ]
  },
  {
   "cell_type": "markdown",
   "id": "8afa98fa",
   "metadata": {},
   "source": [
    "## 참고서 풀이"
   ]
  },
  {
   "cell_type": "code",
   "execution_count": 11,
   "id": "9ddda130",
   "metadata": {
    "ExecuteTime": {
     "end_time": "2024-03-06T01:33:07.642692Z",
     "start_time": "2024-03-06T01:32:58.897304Z"
    },
    "scrolled": true
   },
   "outputs": [
    {
     "name": "stdout",
     "output_type": "stream",
     "text": [
      "5\n",
      "R R R U D D\n",
      "4 3\n"
     ]
    }
   ],
   "source": [
    "# n을 입력받기\n",
    "n = int(input())\n",
    "x, y = 1,1\n",
    "plans = input().split()\n",
    "\n",
    "# R D L U 에 따른 이동방향\n",
    "dx = [1,0,-1,0] # R D L U\n",
    "dy = [0,1,0,-1]\n",
    "move_types = ['R', 'D', 'L', 'U']\n",
    "\n",
    "# 이동 계획을 하나씩 확인\n",
    "for plan in plans:\n",
    "    # 이동 후 좌표 구하기\n",
    "    for i in range(len(move_types)):\n",
    "        if plan == move_types[i]:\n",
    "            nx = x + dx[i]\n",
    "            ny = y + dy[i]\n",
    "    # 공간을 벗어나는 경우 무시\n",
    "    if nx < 1 or ny < 1 or nx > n or ny > 5:\n",
    "        continue\n",
    "    # 이동 수행\n",
    "    x, y = nx, ny\n",
    "    \n",
    "print(x, y)"
   ]
  },
  {
   "cell_type": "markdown",
   "id": "9c0eac34",
   "metadata": {},
   "source": [
    "# 시각"
   ]
  },
  {
   "cell_type": "markdown",
   "id": "990cf3c6",
   "metadata": {},
   "source": [
    "## 참고서 풀이"
   ]
  },
  {
   "cell_type": "code",
   "execution_count": 18,
   "id": "95d0c62f",
   "metadata": {
    "ExecuteTime": {
     "end_time": "2024-03-06T01:50:07.026719Z",
     "start_time": "2024-03-06T01:50:04.836440Z"
    }
   },
   "outputs": [
    {
     "name": "stdout",
     "output_type": "stream",
     "text": [
      "5\n",
      "11475\n"
     ]
    }
   ],
   "source": [
    "n = int(input())\n",
    "\n",
    "cnt = 0\n",
    "\n",
    "for h in range(n+1):\n",
    "    for m in range(60):\n",
    "        for s in range(60):\n",
    "            # 매 시간 안에 '3'이 포함되어 있다면 카운트 증가\n",
    "            if \"3\" in str(h)+str(m)+str(s):\n",
    "                cnt += 1\n",
    "                \n",
    "print(cnt)"
   ]
  },
  {
   "cell_type": "markdown",
   "id": "d955a41a",
   "metadata": {},
   "source": [
    "# 왕실 나이트"
   ]
  },
  {
   "cell_type": "markdown",
   "id": "930b9352",
   "metadata": {},
   "source": [
    "## 내 풀이"
   ]
  },
  {
   "cell_type": "code",
   "execution_count": 22,
   "id": "08900666",
   "metadata": {
    "ExecuteTime": {
     "end_time": "2024-03-06T02:20:21.817632Z",
     "start_time": "2024-03-06T02:20:21.810037Z"
    }
   },
   "outputs": [
    {
     "data": {
      "text/plain": [
       "2"
      ]
     },
     "execution_count": 22,
     "metadata": {},
     "output_type": "execute_result"
    }
   ],
   "source": [
    "night = input()\n",
    "cnt = \n",
    "\n",
    "dx = ['a','b','c','d','e','f','g','h']\n",
    "dy = ['1','2','3','4','5','6','7','8']\n",
    "x = dx.index(night[0])+1\n",
    "y = dy.index(night[1])+1\n",
    "\n",
    "steps = [(2,1),(2,-1),(-2,1),(-2,-1),(1,2),(1,-2),(-1,2),(-1,-2)]\n",
    "\n",
    "for i in steps:\n",
    "    nx = x+i[0]\n",
    "    ny = y+i[1]\n",
    "    if nx >= 1 and nx <= 8 and ny >= 1 and ny <= 8:\n",
    "        cnt += 1\n",
    "\n",
    "print(cnt)"
   ]
  },
  {
   "cell_type": "markdown",
   "id": "2c31196d",
   "metadata": {},
   "source": [
    "## 참고서 풀이"
   ]
  },
  {
   "cell_type": "code",
   "execution_count": 27,
   "id": "7a502f6e",
   "metadata": {
    "ExecuteTime": {
     "end_time": "2024-03-06T02:30:16.519884Z",
     "start_time": "2024-03-06T02:30:14.219810Z"
    }
   },
   "outputs": [
    {
     "name": "stdout",
     "output_type": "stream",
     "text": [
      "a1\n",
      "2\n"
     ]
    }
   ],
   "source": [
    "# 현재 나이트의 위치 입력받기\n",
    "night = input()\n",
    "row = int(night[1])\n",
    "column = int(ord(night[0])-int(ord('a'))) + 1\n",
    "\n",
    "# 나이트가 이동할 수 있는 8가지 방향 정의\n",
    "steps = [(2,1),(2,-1),(-2,1),(-2,-1),(1,2),(1,-2),(-1,2),(-1,-2)]\n",
    "\n",
    "cnt = 0\n",
    "\n",
    "for i in steps:\n",
    "    nx = x+i[0]\n",
    "    ny = y+i[1]\n",
    "    if nx >= 1 and nx <= 8 and ny >= 1 and ny <= 8:\n",
    "        cnt += 1\n",
    "\n",
    "print(cnt)"
   ]
  },
  {
   "cell_type": "markdown",
   "id": "832165d6",
   "metadata": {},
   "source": [
    "# 게임 개발"
   ]
  },
  {
   "cell_type": "markdown",
   "id": "53ce6e04",
   "metadata": {},
   "source": [
    "## 교과서 풀이\n",
    "이게 .. 난이도 중간짜리 ... 코테..?"
   ]
  },
  {
   "cell_type": "code",
   "execution_count": 32,
   "id": "e09271ad",
   "metadata": {
    "ExecuteTime": {
     "end_time": "2024-03-06T03:22:44.860127Z",
     "start_time": "2024-03-06T03:22:32.655594Z"
    }
   },
   "outputs": [
    {
     "name": "stdout",
     "output_type": "stream",
     "text": [
      "4 4\n",
      "1 1 0\n",
      "1 1 1 1\n",
      "1 0 0 1\n",
      "1 1 0 1\n",
      "1 1 1 1\n",
      "3\n"
     ]
    }
   ],
   "source": [
    "# N,M을 공백으로 구분하여 입력받기\n",
    "n,m = map(int, input().split())\n",
    "\n",
    "# 방문한 위치를 저장하기 위한 맵을 생성하여 0으로 초기화\n",
    "d = [[0]*m for _ in range(n)]\n",
    "# 현재 캐릭터의 X좌표, Y좌표, 방향을 입력받기\n",
    "x, y, direction = map(int, input().split())\n",
    "d[x][y] = 1 # 현재 좌표 방문처리\n",
    "\n",
    "# 전체 맵 정보를 입력받기\n",
    "array = []\n",
    "for i in range(n):\n",
    "    array.append(list(map(int, input().split())))\n",
    "\n",
    "# 북, 동, 남, 서 방향 정의\n",
    "dx = [-1,0,1,0]\n",
    "dy = [0,1,0,-1]\n",
    "\n",
    "# 왼쪽으로 회전\n",
    "def turn_lift():\n",
    "    global direction\n",
    "    direction -= 1\n",
    "    if direction == -1:\n",
    "        direction = 3\n",
    "\n",
    "# 시뮬레이션 시작\n",
    "count = 1\n",
    "turn_time = 0\n",
    "while True:\n",
    "    # 왼쪽으로 회전\n",
    "    turn_lift()\n",
    "    nx = x + dx[direction]\n",
    "    ny = y + dy[direction]\n",
    "    \n",
    "    # 회전한 이후 정면에 가보지 않은 칸이 존재하는 경우 이동\n",
    "    if d[nx][ny] == 0 and array[nx][ny] == 0:\n",
    "        d[nx][ny] = 1\n",
    "        x = nx\n",
    "        y = ny\n",
    "        count += 1\n",
    "        turn_time = 0\n",
    "        continue\n",
    "    # 회전한 이후 정면에 가보지 않은 칸이 없거나 바다인 경우\n",
    "    else:\n",
    "        turn_time += 1\n",
    "        \n",
    "    # 네 방향 모두 갈 수 없는 경우\n",
    "    if turn_time == 4:\n",
    "        nx = x - dx[direction]\n",
    "        ny = y - dy[direction]\n",
    "        # 뒤로 갈 수 있다면 이동하기\n",
    "        if array[nx][ny] == 0:\n",
    "            x = nx\n",
    "            y = ny\n",
    "        # 뒤가 바다로 막혀있는 경우\n",
    "        else:\n",
    "            break\n",
    "        turn_time = 0\n",
    "        \n",
    "print(count)"
   ]
  }
 ],
 "metadata": {
  "kernelspec": {
   "display_name": "Python 3 (ipykernel)",
   "language": "python",
   "name": "python3"
  },
  "language_info": {
   "codemirror_mode": {
    "name": "ipython",
    "version": 3
   },
   "file_extension": ".py",
   "mimetype": "text/x-python",
   "name": "python",
   "nbconvert_exporter": "python",
   "pygments_lexer": "ipython3",
   "version": "3.11.3"
  },
  "toc": {
   "base_numbering": 1,
   "nav_menu": {},
   "number_sections": true,
   "sideBar": true,
   "skip_h1_title": false,
   "title_cell": "Table of Contents",
   "title_sidebar": "Contents",
   "toc_cell": false,
   "toc_position": {},
   "toc_section_display": true,
   "toc_window_display": false
  }
 },
 "nbformat": 4,
 "nbformat_minor": 5
}
