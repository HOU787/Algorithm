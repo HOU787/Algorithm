{
 "cells": [
  {
   "cell_type": "markdown",
   "id": "a390c789",
   "metadata": {},
   "source": [
    "# 큰 수의 법칙"
   ]
  },
  {
   "cell_type": "markdown",
   "id": "c87d2a41",
   "metadata": {},
   "source": [
    "## 내 풀이"
   ]
  },
  {
   "cell_type": "code",
   "execution_count": 8,
   "id": "4723b7b3",
   "metadata": {
    "ExecuteTime": {
     "end_time": "2024-03-02T16:49:47.940100Z",
     "start_time": "2024-03-02T16:49:43.273834Z"
    },
    "scrolled": true
   },
   "outputs": [
    {
     "name": "stdout",
     "output_type": "stream",
     "text": [
      "5 8 3\n",
      "2 4 5 4 6\n",
      "46\n"
     ]
    }
   ],
   "source": [
    "n, m, k = map(int, input().split())\n",
    "li = list(map(int, input().split()))\n",
    "\n",
    "mx = max(li)\n",
    "li.remove(mx)\n",
    "result = 0\n",
    "k_cnt = 0\n",
    "\n",
    "for i in range(m):\n",
    "    if k_cnt != k:\n",
    "        result += mx\n",
    "    else:\n",
    "        result += max(li)\n",
    "        k_cnt = 0\n",
    "    k_cnt += 1\n",
    "    \n",
    "print(result)"
   ]
  },
  {
   "cell_type": "markdown",
   "id": "b4b9f451",
   "metadata": {},
   "source": [
    "## 참고서 풀이 1\n",
    "단순하게 푸는 답안"
   ]
  },
  {
   "cell_type": "code",
   "execution_count": 12,
   "id": "342faa7c",
   "metadata": {
    "ExecuteTime": {
     "end_time": "2024-03-02T17:05:38.770806Z",
     "start_time": "2024-03-02T17:05:33.518182Z"
    }
   },
   "outputs": [
    {
     "name": "stdout",
     "output_type": "stream",
     "text": [
      "5 8 3\n",
      "2 4 5 4 6\n",
      "46\n"
     ]
    }
   ],
   "source": [
    "n, m, k = map(int, input().split())\n",
    "data = list(map(int, input().split()))\n",
    "\n",
    "# data 를 오름차순 정렬해서 가장 큰 수와 작은수 저장\n",
    "data.sort()\n",
    "first = data[n-1]\n",
    "second = data[n-2]\n",
    "\n",
    "result = 0\n",
    "\n",
    "while True:\n",
    "    for i in range(k): # 가장 큰 수를 K번 더하기\n",
    "        if m == 0: # m이 0이라면 반복문 탈출\n",
    "            break\n",
    "        result += first\n",
    "        m -= 1 # 더할 때마다 1씩 빼기\n",
    "    \n",
    "    if m == 0:\n",
    "        break # m이 0이라면 반복문 탈출\n",
    "    result += second # 두 번째로 큰 수를 한 번 더하기\n",
    "    m -= 1 \n",
    "    \n",
    "print(result)\n",
    "            "
   ]
  },
  {
   "cell_type": "markdown",
   "id": "a805d4dc",
   "metadata": {},
   "source": [
    "## 참고서 풀이 2\n",
    "이 문제는 M의 크기가 100억 이상처럼 커지면 시간초과 판정을 받게된다. 수학적 아이디어를 이용해 문제를 해결해볼수 있다. "
   ]
  },
  {
   "cell_type": "code",
   "execution_count": 11,
   "id": "5fc1f4bf",
   "metadata": {
    "ExecuteTime": {
     "end_time": "2024-03-02T17:03:56.907838Z",
     "start_time": "2024-03-02T17:03:49.661824Z"
    }
   },
   "outputs": [
    {
     "name": "stdout",
     "output_type": "stream",
     "text": [
      "5 8 3\n",
      "2 4 5 4 6\n",
      "46\n"
     ]
    }
   ],
   "source": [
    "n, m, k = map(int, input().split())\n",
    "data = list(map(int, input().split()))\n",
    "\n",
    "# data 를 오름차순 정렬해서 가장 큰 수와 작은수 저장\n",
    "data.sort()\n",
    "first = data[n-1]\n",
    "second = data[n-2]\n",
    "\n",
    "# 가장 큰 수가 더해지는 횟수 계산\n",
    "count = int(m/(k+1))*k\n",
    "count += m%(k+1)\n",
    "\n",
    "result = 0\n",
    "result += (count) * first\n",
    "result += (m-count) * second\n",
    "\n",
    "print(result)"
   ]
  },
  {
   "cell_type": "markdown",
   "id": "e607ac8a",
   "metadata": {},
   "source": [
    "# 숫자 카드 게임"
   ]
  },
  {
   "cell_type": "markdown",
   "id": "5c33e516",
   "metadata": {},
   "source": [
    "## 내 풀이"
   ]
  },
  {
   "cell_type": "code",
   "execution_count": 15,
   "id": "90000040",
   "metadata": {
    "ExecuteTime": {
     "end_time": "2024-03-02T17:20:38.813536Z",
     "start_time": "2024-03-02T17:20:29.925674Z"
    }
   },
   "outputs": [
    {
     "name": "stdout",
     "output_type": "stream",
     "text": [
      "2 4\n",
      "7 3 1 9\n",
      "3 3 3 4\n",
      "3\n"
     ]
    }
   ],
   "source": [
    "n, m = map(int, input().split())\n",
    "\n",
    "result = 0\n",
    "\n",
    "for i in range(n):\n",
    "    cards = list(map(int, input().split()))\n",
    "    if min(cards) > result:\n",
    "        result = min(cards)\n",
    "        \n",
    "print(result)\n"
   ]
  },
  {
   "cell_type": "markdown",
   "id": "d216b44c",
   "metadata": {},
   "source": [
    "## 참고서 풀이 1\n",
    "min() 함수를 이용한 답안"
   ]
  },
  {
   "cell_type": "code",
   "execution_count": 16,
   "id": "c38ef4f4",
   "metadata": {
    "ExecuteTime": {
     "end_time": "2024-03-02T17:26:23.201953Z",
     "start_time": "2024-03-02T17:26:14.776185Z"
    }
   },
   "outputs": [
    {
     "name": "stdout",
     "output_type": "stream",
     "text": [
      "2 4\n",
      "7 3 1 9\n",
      "3 3 3 4\n",
      "3\n"
     ]
    }
   ],
   "source": [
    "n, m = map(int, input().split())\n",
    "\n",
    "result = 0\n",
    "\n",
    "# 한 줄씩 입력받아 확인\n",
    "for i in range(n):\n",
    "    data = list(map(int, input().split()))\n",
    "    # 현재 줄에서 '가장 작은 수 찾기'\n",
    "    min_value = min(data)\n",
    "    # '가장 작은 수'들 중에서 가장 큰 수 찾기\n",
    "    result = max(result, min_value)\n",
    "    \n",
    "print(result)"
   ]
  },
  {
   "cell_type": "markdown",
   "id": "9b499a34",
   "metadata": {},
   "source": [
    "## 참고서풀이 2\n",
    "2중 반복문 구조를 이용하는 답안"
   ]
  },
  {
   "cell_type": "code",
   "execution_count": 17,
   "id": "3a9dbd7b",
   "metadata": {
    "ExecuteTime": {
     "end_time": "2024-03-02T17:30:25.866379Z",
     "start_time": "2024-03-02T17:30:19.946178Z"
    }
   },
   "outputs": [
    {
     "name": "stdout",
     "output_type": "stream",
     "text": [
      "2 4\n",
      "7 3 1 9\n",
      "3 3 3 4\n",
      "3\n"
     ]
    }
   ],
   "source": [
    "n, m = map(int, input().split())\n",
    "\n",
    "result = 0\n",
    "\n",
    "# 한 줄씩 입력받아 확인\n",
    "for i in range(n):\n",
    "    data = list(map(int, input().split()))\n",
    "    # 현재 줄에서 '가장 작은 수' 찾기\n",
    "    min_value = 10001 # 조건의 원소들의 최대 크기\n",
    "    for a in data:\n",
    "        min_value = min(min_value,a)\n",
    "    #'가장 작은 수'들 중에서 가장 큰수 찾기\n",
    "    result = max(result, min_value)\n",
    "    \n",
    "print(result)"
   ]
  },
  {
   "cell_type": "markdown",
   "id": "014d7eaf",
   "metadata": {},
   "source": [
    "# 1이 될 때까지"
   ]
  },
  {
   "cell_type": "markdown",
   "id": "ef787b17",
   "metadata": {},
   "source": [
    "## 내 풀이"
   ]
  },
  {
   "cell_type": "code",
   "execution_count": 22,
   "id": "3ce4d3d6",
   "metadata": {
    "ExecuteTime": {
     "end_time": "2024-03-02T17:46:47.499750Z",
     "start_time": "2024-03-02T17:46:43.865431Z"
    }
   },
   "outputs": [
    {
     "name": "stdout",
     "output_type": "stream",
     "text": [
      "27 3\n",
      "3\n"
     ]
    }
   ],
   "source": [
    "n, k = map(int, input().split())\n",
    "\n",
    "cnt = 0\n",
    "\n",
    "while n != 1:\n",
    "    if n%k != 0:\n",
    "        n -= 1\n",
    "        cnt += 1\n",
    "    else:\n",
    "        n //= k\n",
    "        cnt += 1\n",
    "        \n",
    "print(cnt)"
   ]
  },
  {
   "cell_type": "markdown",
   "id": "e7739b47",
   "metadata": {},
   "source": [
    "## 참고서 풀이 1"
   ]
  },
  {
   "cell_type": "code",
   "execution_count": 23,
   "id": "bd6f9acb",
   "metadata": {
    "ExecuteTime": {
     "end_time": "2024-03-02T17:51:30.616348Z",
     "start_time": "2024-03-02T17:51:29.504593Z"
    }
   },
   "outputs": [
    {
     "name": "stdout",
     "output_type": "stream",
     "text": [
      "27 3\n",
      "3\n"
     ]
    }
   ],
   "source": [
    "n, k = map(int, input().split())\n",
    "result = 0\n",
    "\n",
    "# N이 K 이상이라면 K로 계속 나누기\n",
    "while n >= k:\n",
    "    # N이 K로 나누어 떨어지지 않는다면 N에서 1씩 빼기\n",
    "    while n%k != 0:\n",
    "        n -= 1\n",
    "        result += 1\n",
    "    # K로 나누기\n",
    "    n //= k\n",
    "    result += 1\n",
    "    \n",
    "# 마지막으로 남은 수에 대하여 1씩 빼기\n",
    "while n > 1:\n",
    "    n -= 1\n",
    "    result += 1\n",
    "\n",
    "print(result)"
   ]
  },
  {
   "cell_type": "markdown",
   "id": "ad1d9f5b",
   "metadata": {},
   "source": [
    "## 참고서 풀이 2"
   ]
  },
  {
   "cell_type": "code",
   "execution_count": 25,
   "id": "4b856d6c",
   "metadata": {
    "ExecuteTime": {
     "end_time": "2024-03-02T17:57:11.712590Z",
     "start_time": "2024-03-02T17:57:10.238468Z"
    }
   },
   "outputs": [
    {
     "name": "stdout",
     "output_type": "stream",
     "text": [
      "27 3\n",
      "3\n"
     ]
    }
   ],
   "source": [
    "n, k = map(int, input().split())\n",
    "result = 0\n",
    "\n",
    "# N이 K 이상이라면 K로 계속 나누기\n",
    "while True:\n",
    "    # (N==K 로 나누어떨어지는 수)가 될 때까지 1씩 빼기\n",
    "    target = (n//k) * k\n",
    "    result += (n-target)\n",
    "    n = target\n",
    "    # N이 K보다 작을 때(더 이상 나눌 수 없을 때) 반복문 탈출\n",
    "    if n < k:\n",
    "        break\n",
    "    # K로 나누기\n",
    "    result += 1\n",
    "    n //= k\n",
    "    \n",
    "# 마지막으로 남은 수에 대하여 1씩 빼기\n",
    "result += (n-1)\n",
    "print(result)"
   ]
  }
 ],
 "metadata": {
  "kernelspec": {
   "display_name": "Python 3 (ipykernel)",
   "language": "python",
   "name": "python3"
  },
  "language_info": {
   "codemirror_mode": {
    "name": "ipython",
    "version": 3
   },
   "file_extension": ".py",
   "mimetype": "text/x-python",
   "name": "python",
   "nbconvert_exporter": "python",
   "pygments_lexer": "ipython3",
   "version": "3.11.3"
  },
  "toc": {
   "base_numbering": 1,
   "nav_menu": {},
   "number_sections": true,
   "sideBar": true,
   "skip_h1_title": false,
   "title_cell": "Table of Contents",
   "title_sidebar": "Contents",
   "toc_cell": false,
   "toc_position": {},
   "toc_section_display": true,
   "toc_window_display": false
  }
 },
 "nbformat": 4,
 "nbformat_minor": 5
}
