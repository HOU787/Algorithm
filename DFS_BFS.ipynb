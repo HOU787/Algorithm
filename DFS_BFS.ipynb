{
 "cells": [
  {
   "cell_type": "markdown",
   "id": "d4ab55b9",
   "metadata": {},
   "source": [
    "# 음료수 얼려 먹기"
   ]
  },
  {
   "cell_type": "markdown",
   "id": "924a2d39",
   "metadata": {},
   "source": [
    "## 참고서 풀이\n",
    "DFS 접근"
   ]
  },
  {
   "cell_type": "code",
   "execution_count": 7,
   "id": "95d89105",
   "metadata": {
    "ExecuteTime": {
     "end_time": "2024-03-06T21:07:58.163350Z",
     "start_time": "2024-03-06T21:07:47.123155Z"
    }
   },
   "outputs": [
    {
     "name": "stdout",
     "output_type": "stream",
     "text": [
      "4 5\n",
      "00110\n",
      "00011\n",
      "11111\n",
      "00000\n",
      "[[1, 1, 1, 1, 0], [1, 1, 1, 1, 1], [1, 1, 1, 1, 1], [0, 0, 0, 0, 0]]\n",
      "[[1, 1, 1, 1, 1], [1, 1, 1, 1, 1], [1, 1, 1, 1, 1], [0, 0, 0, 0, 0]]\n",
      "[[1, 1, 1, 1, 1], [1, 1, 1, 1, 1], [1, 1, 1, 1, 1], [1, 1, 1, 1, 1]]\n",
      "3\n"
     ]
    }
   ],
   "source": [
    "# 세로N 가로M의 길이가 주어짐\n",
    "n, m = map(int, input().split())\n",
    "# 얼음틀\n",
    "graph = []\n",
    "# (N+1)까지 얼음틀의 형태\n",
    "for _ in range(n):\n",
    "    graph.append(list(map(int, input())))\n",
    "\n",
    "# DFS로 특정한 노드를 방문한 뒤에 연결된 모든 노드들을 방문\n",
    "def dfs(x,y):\n",
    "    # 주어진 범위를 벗어나는 경우에는 즉시 종료\n",
    "    if x <= -1 or x >= n or y <= -1 or y >= m:\n",
    "        return False\n",
    "    # 현재 노드를 아직 방문하지 않았다면\n",
    "    if graph[x][y] == 0:\n",
    "        # 해당 노드 방문 처리\n",
    "        graph[x][y] = 1\n",
    "        # 상, 하 , 좌, 우 위치도 모두 재귀적으로 호출\n",
    "        dfs(x-1, y)\n",
    "        dfs(x, y-1)\n",
    "        dfs(x+1,y)\n",
    "        dfs(x,y+1)\n",
    "        return True\n",
    "    return False\n",
    "\n",
    "# 모든 노드(위치)에 대하여 음료수 채우기\n",
    "result = 0\n",
    "for i in range(n):\n",
    "    for j in range(m):\n",
    "        # 현재 위치에서 DFS 수행\n",
    "        if dfs(i,j) == True:\n",
    "            print(graph)\n",
    "            result += 1\n",
    "            \n",
    "print(result)"
   ]
  },
  {
   "cell_type": "markdown",
   "id": "fb636b08",
   "metadata": {},
   "source": [
    "# 미로탈출"
   ]
  },
  {
   "cell_type": "markdown",
   "id": "2e7e08ba",
   "metadata": {},
   "source": [
    "## 내 풀이"
   ]
  },
  {
   "cell_type": "code",
   "execution_count": 7,
   "id": "faeaa779",
   "metadata": {
    "ExecuteTime": {
     "end_time": "2024-03-08T06:04:07.961541Z",
     "start_time": "2024-03-08T06:03:54.361276Z"
    }
   },
   "outputs": [
    {
     "name": "stdout",
     "output_type": "stream",
     "text": [
      "5 6\n",
      "101010\n",
      "111111\n",
      "000001\n",
      "111111\n",
      "111111\n",
      "10\n"
     ]
    }
   ],
   "source": [
    "from collections import deque\n",
    "# 맵 크기 입력\n",
    "n, m = map(int, input().split())\n",
    "# 맵 상태 입력\n",
    "maps = []\n",
    "for _ in range(n):\n",
    "    maps.append(list(map(int, input())))\n",
    "\n",
    "queue =  deque()\n",
    "# 이동좌표 설정 상,하,좌, 우\n",
    "dx = [-1,1,0,0]\n",
    "dy = [0,0,-1,1]\n",
    "\n",
    "def miro(x,y):\n",
    "    queue.append((x,y))\n",
    "    while queue:\n",
    "        x,y = queue.popleft()\n",
    "        # 상하좌우 탐색\n",
    "        for i in range(4):\n",
    "            nx = x + dx[i]\n",
    "            ny = y + dy[i]\n",
    "            # if 미로의 범위를 벗어날 경우 continue\n",
    "            if nx < 0 or ny < 0 or nx >= n or ny >= m:\n",
    "                continue\n",
    "            # if 괴물(0)이 있을 경우\n",
    "            if maps[nx][ny] == 0:\n",
    "                continue\n",
    "            # if 다음 칸이 기록된 적 없을 경우(1일 경우)\n",
    "            if maps[nx][ny] == 1:\n",
    "                # 이전칸의 + 1\n",
    "                maps[nx][ny] = maps[x][y] + 1\n",
    "                queue.append((nx,ny))\n",
    "\n",
    "    # 최종 목적지인 맨 오른쪽 맨 아래칸 출력\n",
    "    print(maps[n-1][m-1])\n",
    "    \n",
    "miro(0,0)"
   ]
  },
  {
   "cell_type": "markdown",
   "id": "03d6dc2b",
   "metadata": {},
   "source": [
    "## 참고서 풀이"
   ]
  },
  {
   "cell_type": "code",
   "execution_count": 4,
   "id": "7febb0c1",
   "metadata": {
    "ExecuteTime": {
     "end_time": "2024-03-08T05:41:34.103455Z",
     "start_time": "2024-03-08T05:41:13.925988Z"
    }
   },
   "outputs": [
    {
     "name": "stdout",
     "output_type": "stream",
     "text": [
      "5 6\n",
      "101010\n",
      "111111\n",
      "000001\n",
      "111111\n",
      "111111\n",
      "10\n"
     ]
    }
   ],
   "source": [
    "from collections import deque\n",
    "\n",
    "# N, M을 공백으로 구분하여 입력받기\n",
    "n, m = map(int, input().split())\n",
    "# 2차원 리스트의 맵 정보 입력받기\n",
    "graph = []\n",
    "for i in range(n):\n",
    "    graph.append(list(map(int, input())))\n",
    "    \n",
    "# 이동할 네 방향 정의 (상, 하, 좌, 우)\n",
    "dx = [-1,1,0,0]\n",
    "dy = [0,0,-1,1]\n",
    "\n",
    "# BSF 소스코드 구현\n",
    "def bfs(x,y):\n",
    "    queue = deque()\n",
    "    queue.append((x,y))\n",
    "    # 큐가 빌 때까지 반복\n",
    "    while queue:\n",
    "        x,y = queue.popleft()\n",
    "        # 현재 위치에서 네 방향으로의 위치 확인\n",
    "        for i in range(4):\n",
    "            nx = x+dx[i]\n",
    "            ny = y+dy[i]\n",
    "            # 미로 찾기 공간을 벗어난 경우 무시\n",
    "            if nx < 0 or ny < 0 or nx >= n or ny >= m:\n",
    "                continue\n",
    "            # 벽인 경우 무시\n",
    "            if graph[nx][ny] == 0:\n",
    "                continue\n",
    "            # 해당 노드를 처음 방문하는 경우에만 최단 거리 기록\n",
    "            if graph[nx][ny] == 1:\n",
    "                graph[nx][ny] = graph[x][y] + 1\n",
    "                queue.append((nx,ny))\n",
    "    # 가장 오른쪽 아래까지의 최단 거리 반환\n",
    "    return graph[n-1][m-1]\n",
    "\n",
    "# BFS를 수행한 결과 출력\n",
    "print(bfs(0,0))\n",
    "        "
   ]
  }
 ],
 "metadata": {
  "kernelspec": {
   "display_name": "Python 3 (ipykernel)",
   "language": "python",
   "name": "python3"
  },
  "language_info": {
   "codemirror_mode": {
    "name": "ipython",
    "version": 3
   },
   "file_extension": ".py",
   "mimetype": "text/x-python",
   "name": "python",
   "nbconvert_exporter": "python",
   "pygments_lexer": "ipython3",
   "version": "3.11.3"
  },
  "toc": {
   "base_numbering": 1,
   "nav_menu": {},
   "number_sections": true,
   "sideBar": true,
   "skip_h1_title": false,
   "title_cell": "Table of Contents",
   "title_sidebar": "Contents",
   "toc_cell": false,
   "toc_position": {},
   "toc_section_display": true,
   "toc_window_display": false
  }
 },
 "nbformat": 4,
 "nbformat_minor": 5
}
