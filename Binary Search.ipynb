{
 "cells": [
  {
   "cell_type": "markdown",
   "id": "999cbce0",
   "metadata": {},
   "source": [
    "# 부품 찾기"
   ]
  },
  {
   "cell_type": "markdown",
   "id": "48f95fa9",
   "metadata": {},
   "source": [
    "## 내 풀이1"
   ]
  },
  {
   "cell_type": "code",
   "execution_count": 18,
   "id": "57ad1bf7",
   "metadata": {
    "ExecuteTime": {
     "end_time": "2024-03-10T08:28:19.792448Z",
     "start_time": "2024-03-10T08:28:14.319071Z"
    }
   },
   "outputs": [
    {
     "name": "stdout",
     "output_type": "stream",
     "text": [
      "5\n",
      "8 3 7 9 2\n",
      "3\n",
      "5 7 9\n",
      "no yes yes "
     ]
    }
   ],
   "source": [
    "# 보유하고 있는 부품 입력 받기\n",
    "# 소유한 부품의 개수\n",
    "n = int(input())\n",
    "# 소유한 부품의 고유번호 리스트\n",
    "n_list = sorted(list(map(int, input().split())))\n",
    "\n",
    "# 필요한 부품 입력 받기\n",
    "# 필요한 부품의 개수\n",
    "m = int(input())\n",
    "# 필요한 부품의 고유번호 리스트\n",
    "m_list = list(map(int, input().split()))\n",
    "\n",
    "# 재귀함수를 통한 이진분석 수행\n",
    "def binary_search(array, target, start, end):\n",
    "    mid = (start+end)//2\n",
    "    if start > end:\n",
    "        return None\n",
    "    # 찾고자 mid와 같은 경우\n",
    "    elif array[mid] == target:\n",
    "        return mid\n",
    "    # 찾고자 하는 값이 mid 보다 앞에 있는(작은) 경우\n",
    "    elif array[mid] > target:\n",
    "        return binary_search(array, target, start, mid-1)\n",
    "    # 찾고자 하는 값이 mid 보다 뒤에 있는(큰) 경우\n",
    "    else:\n",
    "        return binary_search(array, target, mid+1, end)\n",
    "    return None\n",
    "\n",
    "# 필요한 부품 찾기\n",
    "for i in m_list:\n",
    "    if binary_search(n_list, i, 0, n-1) == None:\n",
    "        print(\"no\", end=' ')\n",
    "    else:\n",
    "        print(\"yes\", end=' ')"
   ]
  },
  {
   "cell_type": "markdown",
   "id": "471ac599",
   "metadata": {},
   "source": [
    "## 내 풀이2"
   ]
  },
  {
   "cell_type": "code",
   "execution_count": 8,
   "id": "5ce5ea02",
   "metadata": {
    "ExecuteTime": {
     "end_time": "2024-03-10T08:08:09.527767Z",
     "start_time": "2024-03-10T08:07:59.483817Z"
    }
   },
   "outputs": [
    {
     "name": "stdout",
     "output_type": "stream",
     "text": [
      "5\n",
      "8 3 7 9 2\n",
      "3\n",
      "5 7 9\n",
      "no yes yes "
     ]
    }
   ],
   "source": [
    "# 소유한 부품의 개수\n",
    "n = int(input())\n",
    "# 소유한 부품의 고유번호 리스트\n",
    "n_list = list(map(int, input().split()))\n",
    "\n",
    "# 필요한 부품 입력 받기\n",
    "# 필요한 부품의 개수\n",
    "m = int(input())\n",
    "# 필요한 부품의 고유번호 리스트\n",
    "m_list = list(map(int, input().split()))\n",
    "\n",
    "for i in m_list:\n",
    "    if i in n_list:\n",
    "        print('yes', end=' ')\n",
    "    else:\n",
    "        print('no', end=' ')"
   ]
  },
  {
   "cell_type": "markdown",
   "id": "aae7b692",
   "metadata": {},
   "source": [
    "## 참고서 풀이1\n",
    "이진 탐색 풀이"
   ]
  },
  {
   "cell_type": "code",
   "execution_count": 16,
   "id": "e71fb720",
   "metadata": {
    "ExecuteTime": {
     "end_time": "2024-03-10T08:26:56.962215Z",
     "start_time": "2024-03-10T08:26:47.640347Z"
    }
   },
   "outputs": [
    {
     "name": "stdout",
     "output_type": "stream",
     "text": [
      "5\n",
      "8 3 7 9 2\n",
      "3\n",
      "5 7 9\n",
      "no yes yes "
     ]
    }
   ],
   "source": [
    "# 이진 탐색 소스코드 구현(반복문)\n",
    "def binary_search(array, target, start, end):\n",
    "    while start <= end:\n",
    "        mid = (start+end)//2\n",
    "        # 찾은 경우 중간점 인덱스 반환\n",
    "        if array[mid] == target:\n",
    "            return mid\n",
    "        # 중간점 값보다 찾고자 하는 값이 작은 경우 왼쪽 확인\n",
    "        elif array[mid] > target:\n",
    "            end = mid-1\n",
    "        # 중간점의 값보다 찾고자 하는 값이 큰 경우 오른쪽 확인\n",
    "        else:\n",
    "            start = mid+1\n",
    "    return None\n",
    "\n",
    "# N(가게의 부품 개수) 입력\n",
    "n = int(input())\n",
    "# 가게에 있는 부품 번호를 공백으로 구분하여 입력\n",
    "array = list(map(int, input().split()))\n",
    "array.sort() # 정렬\n",
    "# M(손님이 확인 요청한 부품 개수) 입력\n",
    "m = int(input())\n",
    "# 손님이 확인 요청한 전체 부품 번호를 공백으로 구분하여 입력\n",
    "x = list(map(int, input().split()))\n",
    "            \n",
    "# 손님이 확인 요청한 부품 번호를 하나씩 확인\n",
    "for i in x:\n",
    "    #해당 부품이 존재하는지 확인\n",
    "    result = binary_search(array,i,0,n-1)\n",
    "    if result != None:\n",
    "        print('yes', end=' ')\n",
    "    else:\n",
    "        print('no', end=' ')"
   ]
  },
  {
   "cell_type": "markdown",
   "id": "f4d63bb9",
   "metadata": {},
   "source": [
    "## 참고서 풀이2\n",
    "계수정렬 풀이 (??????????? 1<=N<=1000000 인데 개수정렬 할꺼에요..?)"
   ]
  },
  {
   "cell_type": "code",
   "execution_count": 19,
   "id": "8b3e5cdf",
   "metadata": {
    "ExecuteTime": {
     "end_time": "2024-03-10T08:33:48.097628Z",
     "start_time": "2024-03-10T08:33:40.274558Z"
    }
   },
   "outputs": [
    {
     "name": "stdout",
     "output_type": "stream",
     "text": [
      "5\n",
      "8 3 7 9 2\n",
      "3\n",
      "5 7 9\n",
      "no yes yes "
     ]
    }
   ],
   "source": [
    "# N(가게의 부품 개수) 입력\n",
    "n = int(input())\n",
    "array = [0]*1000000\n",
    "\n",
    "# 가게에 있는 전체 부품 번호를 입력받아서 기록\n",
    "for i in input().split():\n",
    "    array[int(i)] = 1\n",
    "\n",
    "# M(손님이 확인 요청한 부품 개수) 입력\n",
    "m = int(input())\n",
    "# 손님이 확인 요청한 전체 부품 번호를 공백으로 구분하여 입력\n",
    "x = list(map(int, input().split()))\n",
    "\n",
    "# 손님이 확인 요청한 부품 번호를 하나씩 확인\n",
    "for i in x:\n",
    "    if array[i] == 1:\n",
    "        print('yes', end=' ')\n",
    "    else:\n",
    "        print('no', end=' ')"
   ]
  },
  {
   "cell_type": "markdown",
   "id": "07f65497",
   "metadata": {},
   "source": [
    "## 참고서 풀이3\n",
    "set() 함수"
   ]
  },
  {
   "cell_type": "code",
   "execution_count": 20,
   "id": "99b17067",
   "metadata": {
    "ExecuteTime": {
     "end_time": "2024-03-10T08:36:50.150144Z",
     "start_time": "2024-03-10T08:36:42.813563Z"
    }
   },
   "outputs": [
    {
     "name": "stdout",
     "output_type": "stream",
     "text": [
      "5\n",
      "8 3 7 9 2\n",
      "3\n",
      "5 7 9\n",
      "no yes yes "
     ]
    }
   ],
   "source": [
    "# N(가게의 부품 개수) 입력\n",
    "n = int(input())\n",
    "# 가게에 있는 부품 번호를 공백으로 구분하여 입력\n",
    "array = set(map(int, input().split()))\n",
    "\n",
    "# M(손님이 확인 요청한 부품 개수) 입력\n",
    "m = int(input())\n",
    "# 손님이 확인 요청한 전체 부품 번호를 공백으로 구분하여 입력\n",
    "x = list(map(int, input().split()))\n",
    "\n",
    "# 손님이 확인 요청한 부품 번호를 하나씩 확인\n",
    "for i in x:\n",
    "    #해당 부품이 존재하는지 확인\n",
    "    if i in array:\n",
    "        print('yes', end=' ')\n",
    "    else:\n",
    "        print('no', end=' ')"
   ]
  },
  {
   "cell_type": "markdown",
   "id": "e07dda69",
   "metadata": {},
   "source": [
    "# 떡볶이 떡 만들기"
   ]
  },
  {
   "cell_type": "markdown",
   "id": "f1f06942",
   "metadata": {},
   "source": [
    "## 내 풀이"
   ]
  },
  {
   "cell_type": "code",
   "execution_count": 52,
   "id": "afdefa0e",
   "metadata": {
    "ExecuteTime": {
     "end_time": "2024-03-10T10:08:44.131706Z",
     "start_time": "2024-03-10T10:08:42.668824Z"
    }
   },
   "outputs": [
    {
     "name": "stdout",
     "output_type": "stream",
     "text": [
      "4 6\n",
      "4 5 6 5 5\n",
      "3\n"
     ]
    }
   ],
   "source": [
    "def tteok(array, m, start, end):\n",
    "    #중간값 찾기\n",
    "    mid = (start+end)//2\n",
    "    \n",
    "    if start > end:\n",
    "        return mid\n",
    "    \n",
    "    temp = 0\n",
    "    # mid를 이용해 떡 자르기\n",
    "    for i in array:\n",
    "        # 잘린 떡의 크기는 0보다 작을 수 없음\n",
    "        if (i-mid) >= 0:\n",
    "            temp += (i-mid)\n",
    "    # 잘린 떡의 합이 m(요청한 떡 길이)와 같을 경우\n",
    "    if temp == m:\n",
    "        return mid\n",
    "    # 잘린 떡의 합이 m(요청한 떡 길이)보다 작을 경우 = 덜 자르기\n",
    "    elif temp < m:\n",
    "        return tteok(array, m, start, mid-1)\n",
    "    # 잘린 떡의 합이 m(요청한 떡 길이)보다 클 경우 = 더 자르기\n",
    "    else:\n",
    "        return tteok(array, m, mid+1, end)\n",
    "\n",
    "# 떡의 개수 N, 요청한 떡의 길이M\n",
    "n, m = map(int, input().split())\n",
    "# 개수당 떡의 길이\n",
    "array = sorted(list(map(int, input().split())))\n",
    "\n",
    "print(tteok(array, m, 0, array[-1]))\n",
    "\n"
   ]
  },
  {
   "cell_type": "code",
   "execution_count": 51,
   "id": "23395328",
   "metadata": {
    "ExecuteTime": {
     "end_time": "2024-03-10T09:57:25.161280Z",
     "start_time": "2024-03-10T09:57:18.676844Z"
    },
    "scrolled": true
   },
   "outputs": [
    {
     "name": "stdout",
     "output_type": "stream",
     "text": [
      "4 6\n",
      "19 15 10 17\n",
      "15\n"
     ]
    }
   ],
   "source": [
    "# 떡의 개수(N)와 요청한 떡의 길이(M) 입력 받기\n",
    "n, m = map(int, input().split())\n",
    "# 각 떡의 개별 높이 정보를 입력 받기\n",
    "array = sorted(list(map(int, input().split())))\n",
    "\n",
    "# 이진 탐색을 위한 시작점과 끝점 설정\n",
    "start = 0\n",
    "end = max(array)\n",
    "\n",
    "# 이진 탐색 수행(반복적)\n",
    "result = 0\n",
    "while (start<=end):\n",
    "    total = 0\n",
    "    mid = (start+end)//2\n",
    "    for x in array:\n",
    "        # 잘랐을 때의 떡의 양 계산\n",
    "        if x > mid:\n",
    "            total += x - mid\n",
    "    # 떡의 양이 부족한 경우 더 많이 자르기(왼쪽 부분 탐색)\n",
    "    if total < m:\n",
    "        end = mid-1\n",
    "    # 떡의 양이 충분한 경우 덜 자르기(오른쪽 탐색)\n",
    "    else:\n",
    "        result = mid # 최대한 덜 잘랐을 때가 정답이므로, 여기에서 result 기록\n",
    "        start = mid+1\n",
    "\n",
    "# 정답 출력\n",
    "print(result)"
   ]
  }
 ],
 "metadata": {
  "kernelspec": {
   "display_name": "Python 3 (ipykernel)",
   "language": "python",
   "name": "python3"
  },
  "language_info": {
   "codemirror_mode": {
    "name": "ipython",
    "version": 3
   },
   "file_extension": ".py",
   "mimetype": "text/x-python",
   "name": "python",
   "nbconvert_exporter": "python",
   "pygments_lexer": "ipython3",
   "version": "3.11.3"
  },
  "toc": {
   "base_numbering": 1,
   "nav_menu": {},
   "number_sections": true,
   "sideBar": true,
   "skip_h1_title": false,
   "title_cell": "Table of Contents",
   "title_sidebar": "Contents",
   "toc_cell": false,
   "toc_position": {},
   "toc_section_display": true,
   "toc_window_display": false
  }
 },
 "nbformat": 4,
 "nbformat_minor": 5
}
